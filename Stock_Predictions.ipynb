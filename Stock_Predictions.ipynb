{
 "cells": [
  {
   "cell_type": "markdown",
   "id": "d13eb2dc",
   "metadata": {},
   "source": [
    "# STOCK  PRICE  PREDICTION"
   ]
  },
  {
   "cell_type": "raw",
   "id": "4d7220c2",
   "metadata": {},
   "source": [
    "So in this program we are going to predict the stock price of an organization (Apple Inc.) using artificial recurrent neural \n",
    "network called Long Short Term Memory (LSTM) by anlyzing past stock price variation."
   ]
  },
  {
   "cell_type": "code",
   "execution_count": 10,
   "id": "0fedd462",
   "metadata": {},
   "outputs": [],
   "source": [
    "# Import the required libraries -->\n",
    "import math \n",
    "import numpy as np \n",
    "import pandas as pd\n",
    "import seaborn as sns\n",
    "import matplotlib.pyplot as plt\n",
    "from sklearn.preprocessing import MinMaxScaler\n",
    "from keras.models import Sequential\n",
    "from keras.layers import Dense , LSTM\n",
    "# import pandas_datareader as web\n",
    "\n",
    "%matplotlib inline\n",
    "plt.style.use('fivethirtyeight')"
   ]
  },
  {
   "cell_type": "code",
   "execution_count": 13,
   "id": "0f22183b",
   "metadata": {},
   "outputs": [],
   "source": [
    "import pandas_datareader as web"
   ]
  },
  {
   "cell_type": "code",
   "execution_count": 24,
   "id": "ab712fd0",
   "metadata": {},
   "outputs": [
    {
     "data": {
      "text/html": [
       "<div>\n",
       "<style scoped>\n",
       "    .dataframe tbody tr th:only-of-type {\n",
       "        vertical-align: middle;\n",
       "    }\n",
       "\n",
       "    .dataframe tbody tr th {\n",
       "        vertical-align: top;\n",
       "    }\n",
       "\n",
       "    .dataframe thead th {\n",
       "        text-align: right;\n",
       "    }\n",
       "</style>\n",
       "<table border=\"1\" class=\"dataframe\">\n",
       "  <thead>\n",
       "    <tr style=\"text-align: right;\">\n",
       "      <th></th>\n",
       "      <th>High</th>\n",
       "      <th>Low</th>\n",
       "      <th>Open</th>\n",
       "      <th>Close</th>\n",
       "      <th>Volume</th>\n",
       "      <th>Adj Close</th>\n",
       "    </tr>\n",
       "    <tr>\n",
       "      <th>Date</th>\n",
       "      <th></th>\n",
       "      <th></th>\n",
       "      <th></th>\n",
       "      <th></th>\n",
       "      <th></th>\n",
       "      <th></th>\n",
       "    </tr>\n",
       "  </thead>\n",
       "  <tbody>\n",
       "    <tr>\n",
       "      <th>2012-01-03</th>\n",
       "      <td>14.732143</td>\n",
       "      <td>14.607143</td>\n",
       "      <td>14.621429</td>\n",
       "      <td>14.686786</td>\n",
       "      <td>302220800.0</td>\n",
       "      <td>12.557465</td>\n",
       "    </tr>\n",
       "    <tr>\n",
       "      <th>2012-01-04</th>\n",
       "      <td>14.810000</td>\n",
       "      <td>14.617143</td>\n",
       "      <td>14.642857</td>\n",
       "      <td>14.765714</td>\n",
       "      <td>260022000.0</td>\n",
       "      <td>12.624951</td>\n",
       "    </tr>\n",
       "    <tr>\n",
       "      <th>2012-01-05</th>\n",
       "      <td>14.948214</td>\n",
       "      <td>14.738214</td>\n",
       "      <td>14.819643</td>\n",
       "      <td>14.929643</td>\n",
       "      <td>271269600.0</td>\n",
       "      <td>12.765113</td>\n",
       "    </tr>\n",
       "    <tr>\n",
       "      <th>2012-01-06</th>\n",
       "      <td>15.098214</td>\n",
       "      <td>14.972143</td>\n",
       "      <td>14.991786</td>\n",
       "      <td>15.085714</td>\n",
       "      <td>318292800.0</td>\n",
       "      <td>12.898555</td>\n",
       "    </tr>\n",
       "    <tr>\n",
       "      <th>2012-01-09</th>\n",
       "      <td>15.276786</td>\n",
       "      <td>15.048214</td>\n",
       "      <td>15.196429</td>\n",
       "      <td>15.061786</td>\n",
       "      <td>394024400.0</td>\n",
       "      <td>12.878098</td>\n",
       "    </tr>\n",
       "    <tr>\n",
       "      <th>...</th>\n",
       "      <td>...</td>\n",
       "      <td>...</td>\n",
       "      <td>...</td>\n",
       "      <td>...</td>\n",
       "      <td>...</td>\n",
       "      <td>...</td>\n",
       "    </tr>\n",
       "    <tr>\n",
       "      <th>2020-12-24</th>\n",
       "      <td>133.460007</td>\n",
       "      <td>131.100006</td>\n",
       "      <td>131.320007</td>\n",
       "      <td>131.970001</td>\n",
       "      <td>54930100.0</td>\n",
       "      <td>130.802322</td>\n",
       "    </tr>\n",
       "    <tr>\n",
       "      <th>2020-12-28</th>\n",
       "      <td>137.339996</td>\n",
       "      <td>133.509995</td>\n",
       "      <td>133.990005</td>\n",
       "      <td>136.690002</td>\n",
       "      <td>124486200.0</td>\n",
       "      <td>135.480591</td>\n",
       "    </tr>\n",
       "    <tr>\n",
       "      <th>2020-12-29</th>\n",
       "      <td>138.789993</td>\n",
       "      <td>134.339996</td>\n",
       "      <td>138.050003</td>\n",
       "      <td>134.869995</td>\n",
       "      <td>121047300.0</td>\n",
       "      <td>133.676666</td>\n",
       "    </tr>\n",
       "    <tr>\n",
       "      <th>2020-12-30</th>\n",
       "      <td>135.990005</td>\n",
       "      <td>133.399994</td>\n",
       "      <td>135.580002</td>\n",
       "      <td>133.720001</td>\n",
       "      <td>96452100.0</td>\n",
       "      <td>132.536835</td>\n",
       "    </tr>\n",
       "    <tr>\n",
       "      <th>2020-12-31</th>\n",
       "      <td>134.740005</td>\n",
       "      <td>131.720001</td>\n",
       "      <td>134.080002</td>\n",
       "      <td>132.690002</td>\n",
       "      <td>99116600.0</td>\n",
       "      <td>131.515961</td>\n",
       "    </tr>\n",
       "  </tbody>\n",
       "</table>\n",
       "<p>2265 rows × 6 columns</p>\n",
       "</div>"
      ],
      "text/plain": [
       "                  High         Low        Open       Close       Volume  \\\n",
       "Date                                                                      \n",
       "2012-01-03   14.732143   14.607143   14.621429   14.686786  302220800.0   \n",
       "2012-01-04   14.810000   14.617143   14.642857   14.765714  260022000.0   \n",
       "2012-01-05   14.948214   14.738214   14.819643   14.929643  271269600.0   \n",
       "2012-01-06   15.098214   14.972143   14.991786   15.085714  318292800.0   \n",
       "2012-01-09   15.276786   15.048214   15.196429   15.061786  394024400.0   \n",
       "...                ...         ...         ...         ...          ...   \n",
       "2020-12-24  133.460007  131.100006  131.320007  131.970001   54930100.0   \n",
       "2020-12-28  137.339996  133.509995  133.990005  136.690002  124486200.0   \n",
       "2020-12-29  138.789993  134.339996  138.050003  134.869995  121047300.0   \n",
       "2020-12-30  135.990005  133.399994  135.580002  133.720001   96452100.0   \n",
       "2020-12-31  134.740005  131.720001  134.080002  132.690002   99116600.0   \n",
       "\n",
       "             Adj Close  \n",
       "Date                    \n",
       "2012-01-03   12.557465  \n",
       "2012-01-04   12.624951  \n",
       "2012-01-05   12.765113  \n",
       "2012-01-06   12.898555  \n",
       "2012-01-09   12.878098  \n",
       "...                ...  \n",
       "2020-12-24  130.802322  \n",
       "2020-12-28  135.480591  \n",
       "2020-12-29  133.676666  \n",
       "2020-12-30  132.536835  \n",
       "2020-12-31  131.515961  \n",
       "\n",
       "[2265 rows x 6 columns]"
      ]
     },
     "execution_count": 24,
     "metadata": {},
     "output_type": "execute_result"
    }
   ],
   "source": [
    "#  Get the stodk data :\n",
    "\n",
    "data = web.DataReader('AAPL' , data_source = 'yahoo', start='2012-01-01' , end='2021-01-01')\n",
    "data"
   ]
  },
  {
   "cell_type": "code",
   "execution_count": 25,
   "id": "9b94d6d5",
   "metadata": {},
   "outputs": [
    {
     "data": {
      "text/plain": [
       "(2265, 6)"
      ]
     },
     "execution_count": 25,
     "metadata": {},
     "output_type": "execute_result"
    }
   ],
   "source": [
    "# just get the info of the data :\n",
    "data.shape"
   ]
  },
  {
   "cell_type": "code",
   "execution_count": 26,
   "id": "76c9540f",
   "metadata": {},
   "outputs": [
    {
     "name": "stdout",
     "output_type": "stream",
     "text": [
      "<class 'pandas.core.frame.DataFrame'>\n",
      "DatetimeIndex: 2265 entries, 2012-01-03 to 2020-12-31\n",
      "Data columns (total 6 columns):\n",
      " #   Column     Non-Null Count  Dtype  \n",
      "---  ------     --------------  -----  \n",
      " 0   High       2265 non-null   float64\n",
      " 1   Low        2265 non-null   float64\n",
      " 2   Open       2265 non-null   float64\n",
      " 3   Close      2265 non-null   float64\n",
      " 4   Volume     2265 non-null   float64\n",
      " 5   Adj Close  2265 non-null   float64\n",
      "dtypes: float64(6)\n",
      "memory usage: 123.9 KB\n"
     ]
    }
   ],
   "source": [
    "data.info()"
   ]
  },
  {
   "cell_type": "code",
   "execution_count": 27,
   "id": "d250c13c",
   "metadata": {},
   "outputs": [
    {
     "name": "stdout",
     "output_type": "stream",
     "text": [
      "High         0\n",
      "Low          0\n",
      "Open         0\n",
      "Close        0\n",
      "Volume       0\n",
      "Adj Close    0\n",
      "dtype: int64\n"
     ]
    }
   ],
   "source": [
    "# check if there are any null vals or not :\n",
    "print(data.isnull().sum())"
   ]
  },
  {
   "cell_type": "code",
   "execution_count": 28,
   "id": "d40a2592",
   "metadata": {},
   "outputs": [],
   "source": [
    "# Well the data is loaded accurately \n",
    "\n",
    "# Now with this clean data we are going to visualize it to get idea or the pattern about the future predictions."
   ]
  },
  {
   "cell_type": "code",
   "execution_count": 62,
   "id": "d9160c66",
   "metadata": {},
   "outputs": [
    {
     "data": {
      "image/png": "[encoded data removed]",
      "text/plain": [
       "<Figure size 1008x720 with 1 Axes>"
      ]
     },
     "metadata": {},
     "output_type": "display_data"
    }
   ],
   "source": [
    "# Visualise the closing price :\n",
    "plt.figure(figsize=(14,10))\n",
    "plt.title('Closing Price History')\n",
    "plt.plot(data['Close'])\n",
    "plt.xlabel('Date' , fontsize = 18)\n",
    "plt.ylabel('Price (in USD $)' , fontsize = 18)\n",
    "plt.show()"
   ]
  },
  {
   "cell_type": "code",
   "execution_count": null,
   "id": "7eeef171",
   "metadata": {},
   "outputs": [],
   "source": []
  },
  {
   "cell_type": "code",
   "execution_count": 37,
   "id": "567a717a",
   "metadata": {},
   "outputs": [
    {
     "data": {
      "text/plain": [
       "array([[ 14.6867857 ],\n",
       "       [ 14.76571369],\n",
       "       [ 14.92964268],\n",
       "       ...,\n",
       "       [134.86999512],\n",
       "       [133.72000122],\n",
       "       [132.69000244]])"
      ]
     },
     "execution_count": 37,
     "metadata": {},
     "output_type": "execute_result"
    }
   ],
   "source": [
    "# now we have to take this close col as the new dataframe :\n",
    "data_1 = data.filter(['Close'])\n",
    "data_array = data_1.values  # convert into numpy array\n",
    "data_array"
   ]
  },
  {
   "cell_type": "code",
   "execution_count": 39,
   "id": "1367f4e4",
   "metadata": {},
   "outputs": [
    {
     "data": {
      "text/plain": [
       "1812"
      ]
     },
     "execution_count": 39,
     "metadata": {},
     "output_type": "execute_result"
    }
   ],
   "source": [
    "# Now get the no. of rows to train the model on :\n",
    "train_data_len = math.ceil(len(data_array) * .8)\n",
    "train_data_len"
   ]
  },
  {
   "cell_type": "code",
   "execution_count": 40,
   "id": "5253b99d",
   "metadata": {},
   "outputs": [
    {
     "data": {
      "text/plain": [
       "array([[0.00602306],\n",
       "       [0.0066661 ],\n",
       "       [0.00800165],\n",
       "       ...,\n",
       "       [0.98517215],\n",
       "       [0.97580299],\n",
       "       [0.96741145]])"
      ]
     },
     "execution_count": 40,
     "metadata": {},
     "output_type": "execute_result"
    }
   ],
   "source": [
    "# Scaling data :\n",
    "# Scaling data is an advantages for the data preprocessing and data transformions , normalizations to the input data before\n",
    "# it pass to the neural network.\n",
    "\n",
    "scaler = MinMaxScaler(feature_range = (0,1))\n",
    "# the fit_transform basically computes the min and max values to be used for the scaling\n",
    "scaled_data = scaler.fit_transform(data_array)\n",
    "scaled_data"
   ]
  },
  {
   "cell_type": "code",
   "execution_count": 41,
   "id": "e804dfe5",
   "metadata": {},
   "outputs": [],
   "source": [
    "# now we will create the training (scaled) data :\n",
    "train_data = scaled_data[0:train_data_len, :]"
   ]
  },
  {
   "cell_type": "code",
   "execution_count": 43,
   "id": "8c39b201",
   "metadata": {},
   "outputs": [
    {
     "name": "stdout",
     "output_type": "stream",
     "text": [
      "[array([0.00602306, 0.0066661 , 0.00800165, 0.00927319, 0.00907824,\n",
      "       0.0095176 , 0.00931683, 0.0089793 , 0.00851957, 0.00994242,\n",
      "       0.01122559, 0.01082987, 0.00866214, 0.01073094, 0.00869416,\n",
      "       0.0163321 , 0.01574144, 0.0165125 , 0.01817975, 0.01918941,\n",
      "       0.01910503, 0.0187937 , 0.02012052, 0.02136877, 0.02278289,\n",
      "       0.025067  , 0.02986508, 0.02993782, 0.03260892, 0.03460496,\n",
      "       0.03117444, 0.03249544, 0.03246925, 0.03617329, 0.03564663,\n",
      "       0.03662137, 0.03837301, 0.03934777, 0.04215562, 0.04420112,\n",
      "       0.04479179, 0.04499838, 0.04150094, 0.04065712, 0.04078224,\n",
      "       0.0440702 , 0.04499548, 0.0469828 , 0.0516674 , 0.05791742,\n",
      "       0.05674772, 0.05675062, 0.06126938, 0.0626835 , 0.06167673,\n",
      "       0.06075728, 0.05979999, 0.06298027, 0.06516255, 0.06607619,\n",
      "       0.06381827, 0.06081838, 0.06637007, 0.06948053, 0.06802277,\n",
      "       0.07074916, 0.07149113, 0.06922448, 0.06857271, 0.06757468,\n",
      "       0.06247108, 0.05516776, 0.06377171, 0.063376  , 0.05729474,\n",
      "       0.05308733, 0.05271488, 0.04939202, 0.063859  , 0.06318977,\n",
      "       0.06182221, 0.05628798, 0.0557497 , 0.05686992, 0.05565949,\n",
      "       0.05083813, 0.05206893, 0.05169067, 0.05198163, 0.05237153,\n",
      "       0.05126295, 0.04879262, 0.04732322, 0.04526026, 0.04061639,\n",
      "       0.04069204, 0.04968298, 0.04842892, 0.05238319, 0.05085851])]\n",
      "[0.04997686101040394]\n",
      "[array([0.00602306, 0.0066661 , 0.00800165, 0.00927319, 0.00907824,\n",
      "       0.0095176 , 0.00931683, 0.0089793 , 0.00851957, 0.00994242,\n",
      "       0.01122559, 0.01082987, 0.00866214, 0.01073094, 0.00869416,\n",
      "       0.0163321 , 0.01574144, 0.0165125 , 0.01817975, 0.01918941,\n",
      "       0.01910503, 0.0187937 , 0.02012052, 0.02136877, 0.02278289,\n",
      "       0.025067  , 0.02986508, 0.02993782, 0.03260892, 0.03460496,\n",
      "       0.03117444, 0.03249544, 0.03246925, 0.03617329, 0.03564663,\n",
      "       0.03662137, 0.03837301, 0.03934777, 0.04215562, 0.04420112,\n",
      "       0.04479179, 0.04499838, 0.04150094, 0.04065712, 0.04078224,\n",
      "       0.0440702 , 0.04499548, 0.0469828 , 0.0516674 , 0.05791742,\n",
      "       0.05674772, 0.05675062, 0.06126938, 0.0626835 , 0.06167673,\n",
      "       0.06075728, 0.05979999, 0.06298027, 0.06516255, 0.06607619,\n",
      "       0.06381827, 0.06081838, 0.06637007, 0.06948053, 0.06802277,\n",
      "       0.07074916, 0.07149113, 0.06922448, 0.06857271, 0.06757468,\n",
      "       0.06247108, 0.05516776, 0.06377171, 0.063376  , 0.05729474,\n",
      "       0.05308733, 0.05271488, 0.04939202, 0.063859  , 0.06318977,\n",
      "       0.06182221, 0.05628798, 0.0557497 , 0.05686992, 0.05565949,\n",
      "       0.05083813, 0.05206893, 0.05169067, 0.05198163, 0.05237153,\n",
      "       0.05126295, 0.04879262, 0.04732322, 0.04526026, 0.04061639,\n",
      "       0.04069204, 0.04968298, 0.04842892, 0.05238319, 0.05085851]), array([0.0066661 , 0.00800165, 0.00927319, 0.00907824, 0.0095176 ,\n",
      "       0.00931683, 0.0089793 , 0.00851957, 0.00994242, 0.01122559,\n",
      "       0.01082987, 0.00866214, 0.01073094, 0.00869416, 0.0163321 ,\n",
      "       0.01574144, 0.0165125 , 0.01817975, 0.01918941, 0.01910503,\n",
      "       0.0187937 , 0.02012052, 0.02136877, 0.02278289, 0.025067  ,\n",
      "       0.02986508, 0.02993782, 0.03260892, 0.03460496, 0.03117444,\n",
      "       0.03249544, 0.03246925, 0.03617329, 0.03564663, 0.03662137,\n",
      "       0.03837301, 0.03934777, 0.04215562, 0.04420112, 0.04479179,\n",
      "       0.04499838, 0.04150094, 0.04065712, 0.04078224, 0.0440702 ,\n",
      "       0.04499548, 0.0469828 , 0.0516674 , 0.05791742, 0.05674772,\n",
      "       0.05675062, 0.06126938, 0.0626835 , 0.06167673, 0.06075728,\n",
      "       0.05979999, 0.06298027, 0.06516255, 0.06607619, 0.06381827,\n",
      "       0.06081838, 0.06637007, 0.06948053, 0.06802277, 0.07074916,\n",
      "       0.07149113, 0.06922448, 0.06857271, 0.06757468, 0.06247108,\n",
      "       0.05516776, 0.06377171, 0.063376  , 0.05729474, 0.05308733,\n",
      "       0.05271488, 0.04939202, 0.063859  , 0.06318977, 0.06182221,\n",
      "       0.05628798, 0.0557497 , 0.05686992, 0.05565949, 0.05083813,\n",
      "       0.05206893, 0.05169067, 0.05198163, 0.05237153, 0.05126295,\n",
      "       0.04879262, 0.04732322, 0.04526026, 0.04061639, 0.04069204,\n",
      "       0.04968298, 0.04842892, 0.05238319, 0.05085851, 0.04997686])]\n",
      "[0.04997686101040394, 0.052880730003926346]\n"
     ]
    }
   ],
   "source": [
    "# split the train and test data : ( for last 100 days)\n",
    "x_train = [] \n",
    "y_train = []\n",
    "\n",
    "for i in range(100 , len(train_data)):\n",
    "    x_train.append(train_data[i-100:i, 0])\n",
    "    y_train.append(train_data[i, 0])\n",
    "    \n",
    "    if i <= 101:\n",
    "        print(x_train)\n",
    "        print(y_train)"
   ]
  },
  {
   "cell_type": "code",
   "execution_count": 44,
   "id": "a2410e47",
   "metadata": {},
   "outputs": [],
   "source": [
    "# convert thsi train data to np arrays :\n",
    "x_train , y_train = np.array(x_train) , np.array(y_train)\n",
    "\n"
   ]
  },
  {
   "cell_type": "code",
   "execution_count": 47,
   "id": "59475993",
   "metadata": {},
   "outputs": [
    {
     "data": {
      "text/plain": [
       "(1712, 100, 1)"
      ]
     },
     "execution_count": 47,
     "metadata": {},
     "output_type": "execute_result"
    }
   ],
   "source": [
    "# rehape the data :\n",
    "x_train = np.reshape(x_train, (x_train.shape[0],x_train.shape[1], 1))\n",
    "x_train.shape"
   ]
  },
  {
   "cell_type": "code",
   "execution_count": 53,
   "id": "506ee831",
   "metadata": {},
   "outputs": [],
   "source": [
    "# Now its time to build the model (LSTM) :\n",
    "model = Sequential()\n",
    "model.add(LSTM(50, return_sequences=True, input_shape = (x_train.shape[1],1)))\n",
    "model.add(LSTM(50, return_sequences=False))\n",
    "model.add(Dense(25))\n",
    "model.add(Dense(1))"
   ]
  },
  {
   "cell_type": "code",
   "execution_count": 54,
   "id": "cfa84a06",
   "metadata": {},
   "outputs": [],
   "source": [
    "# compile the model :\n",
    "model.compile(optimizer='adam' , loss='mean_squared_error')"
   ]
  },
  {
   "cell_type": "code",
   "execution_count": 55,
   "id": "aeca9c76",
   "metadata": {},
   "outputs": [
    {
     "name": "stdout",
     "output_type": "stream",
     "text": [
      "1712/1712 [==============================] - 82s 42ms/step - loss: 2.9031e-04\n"
     ]
    },
    {
     "data": {
      "text/plain": [
       "<keras.callbacks.History at 0x24c17d85250>"
      ]
     },
     "execution_count": 55,
     "metadata": {},
     "output_type": "execute_result"
    }
   ],
   "source": [
    "# Train the model :\n",
    "model.fit(x_train, y_train,  batch_size=1, epochs=1)\n"
   ]
  },
  {
   "cell_type": "code",
   "execution_count": 58,
   "id": "a0a88570",
   "metadata": {},
   "outputs": [],
   "source": [
    "# create the test data :\n",
    "# creating new array containing ths scaled values fro 1712 to 2272 :\n",
    "test_data = scaled_data[train_data_len-100: , :]\n",
    "\n",
    "# just create the x_test and y_test :\n",
    "x_test = []\n",
    "y_test = data_array[train_data_len: , :]\n",
    "\n",
    "for i in range(100,len(test_data)):\n",
    "    x_test.append(test_data[i-100:i,0])"
   ]
  },
  {
   "cell_type": "code",
   "execution_count": 59,
   "id": "819c4f61",
   "metadata": {},
   "outputs": [],
   "source": [
    "# to np array :\n",
    "x_test = np.array(x_test)\n",
    "\n",
    "# reshape :\n",
    "x_test = np.reshape(x_test , (x_test.shape[0] , x_test.shape[1],1))"
   ]
  },
  {
   "cell_type": "code",
   "execution_count": 60,
   "id": "4b3d0b19",
   "metadata": {},
   "outputs": [
    {
     "name": "stdout",
     "output_type": "stream",
     "text": [
      "15/15 [==============================] - 2s 28ms/step\n"
     ]
    }
   ],
   "source": [
    "# Now get the predicted values :\n",
    "y_pred = model.predict(x_test)\n",
    "y_pred = scaler.inverse_transform(y_pred)"
   ]
  },
  {
   "cell_type": "code",
   "execution_count": 61,
   "id": "f03f961d",
   "metadata": {},
   "outputs": [
    {
     "name": "stdout",
     "output_type": "stream",
     "text": [
      "root mean squared error (RMSE) is :  2.1875275281354556\n"
     ]
    }
   ],
   "source": [
    "# Get the root mean squared error (RMSE) :\n",
    "rmse = np.sqrt(np.mean(y_pred - y_test)**2)\n",
    "print('root mean squared error (RMSE) is : ' , rmse)"
   ]
  },
  {
   "cell_type": "code",
   "execution_count": 67,
   "id": "d540804e",
   "metadata": {},
   "outputs": [
    {
     "name": "stderr",
     "output_type": "stream",
     "text": [
      "<ipython-input-67-3f4f08109ca7>:4: SettingWithCopyWarning: \n",
      "A value is trying to be set on a copy of a slice from a DataFrame.\n",
      "Try using .loc[row_indexer,col_indexer] = value instead\n",
      "\n",
      "See the caveats in the documentation: https://pandas.pydata.org/pandas-docs/stable/user_guide/indexing.html#returning-a-view-versus-a-copy\n",
      "  valid['predictions'] = y_pred\n"
     ]
    },
    {
     "data": {
      "image/png": "[encoded data removed]",
      "text/plain": [
       "<Figure size 1008x864 with 1 Axes>"
      ]
     },
     "metadata": {},
     "output_type": "display_data"
    }
   ],
   "source": [
    "# now plot our predicted results :\n",
    "train = data[:train_data_len]\n",
    "valid = data[train_data_len:]\n",
    "valid['predictions'] = y_pred\n",
    "\n",
    "# visualize the data :\n",
    "plt.figure(figsize=(14,12))\n",
    "plt.title('Model Predictions')\n",
    "plt.xlabel('Date' , fontsize = 18)\n",
    "plt.ylabel('Price in USD ($)' , fontsize = 18)\n",
    "plt.plot(train['Close'])\n",
    "plt.plot(valid[['Close' , 'predictions']])\n",
    "plt.show()"
   ]
  },
  {
   "cell_type": "code",
   "execution_count": null,
   "id": "4acc6d88",
   "metadata": {},
   "outputs": [],
   "source": []
  }
 ],
 "metadata": {
  "kernelspec": {
   "display_name": "Python 3",
   "language": "python",
   "name": "python3"
  },
  "language_info": {
   "codemirror_mode": {
    "name": "ipython",
    "version": 3
   },
   "file_extension": ".py",
   "mimetype": "text/x-python",
   "name": "python",
   "nbconvert_exporter": "python",
   "pygments_lexer": "ipython3",
   "version": "3.8.8"
  }
 },
 "nbformat": 4,
 "nbformat_minor": 5
}
